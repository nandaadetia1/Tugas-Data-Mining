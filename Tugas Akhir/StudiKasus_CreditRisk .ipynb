{
  "cells": [
    {
      "cell_type": "markdown",
      "metadata": {
        "id": "3Hp2esjlG_Eb"
      },
      "source": [
        "## Business Understanding\n",
        "\n",
        "Salah satu bank terkemuka ingin memprediksi nasabah yang terindikasi kredit macet saat mengajukan pinjaman. Pemberi pinjaman biasanya membuat dua jenis putusan:\n",
        "\n",
        "1. pertama, apakah akan memberikan kredit pada pemohon baru, dan\n",
        "2. kedua bagaimana menangani pemohon yang sudah ada, termasuk apakah akan meningkatkan batas kredit mereka.\n",
        "\n",
        "Dalamkedua kasus apapun teknik yang digunakan, sangat penting bahwa ada sampel besar pelanggan sebelumnya dengan detail aplikasi,pola perilaku, dan riwayat kredit berikutnya yang tersedia. Sebagian besar teknik menggunakan sampel ini untuk mengidentifikasi hubungan antara karakteristik konsumen (pendapatan tahunan, usia, jumlah tahun bekerja dan pemberi kerja saat ini, dll). Dan riwayat mereka selanjutnya,area aplikasi khas di pasar konsumen meliputi: kartu kredit, pinjaman mobil, hipotek rumah, pinjaman ekuitas rumah, pesanan katalog surat,dan berbagai macam pinjaman pribadi.\n",
        "\n",
        "Objectives 1: Predictive pengajuan nasabah kartu kredit yang baru akan gagal bayar atau tidak.\n",
        "## Predictive analytic untuk menganalisir angka resiko nasabah bary=u yang berpotensi gagal bayar pada pengajuan kartu kredit menggunakan pendekatan saince data\n",
        "\n",
        "Case: Klasifikasi --> Supervised Learing\n",
        "\n",
        "Kemungkinan menggunakan Algoritma:\n",
        "1. Decision Tree\n",
        "2. Random Forest\n",
        "3. Logistic Regresssion\n",
        "4. SVM (Suport Vector Machine)\n",
        "5. XGBOOST Classifier\n",
        "\n",
        "Objectives 2: Predictives kenaikan angka kredit pada nasabah yang sudah ada\n",
        "## Predictive analytic untuk optimalisasi nilai kredit OLD nasabah pada bank XX\n",
        "\n",
        "Case: Estimasi\n",
        "\n",
        "Kemungkinan Algoritma yang digunakan:\n",
        "1. Linear Regression\n",
        "2. ANN (Artificial Neural Network)"
      ]
    },
    {
      "cell_type": "code",
      "execution_count": null,
      "metadata": {
        "id": "1k2qRBH4RSV7"
      },
      "outputs": [],
      "source": [
        "# Library\n",
        "\n",
        "import pandas as pd\n",
        "import numpy as np\n",
        "import seaborn as sns\n",
        "import matplotlib.pyplot as plt\n"
      ]
    },
    {
      "cell_type": "markdown",
      "metadata": {
        "id": "9g5rYEZ3R2uw"
      },
      "source": [
        "## Data Understanding"
      ]
    },
    {
      "cell_type": "code",
      "execution_count": null,
      "metadata": {
        "colab": {
          "base_uri": "https://localhost:8080/"
        },
        "id": "lcVhwFwFR6BP",
        "outputId": "2178a681-c5fa-47f8-b841-82d38bcfe798"
      },
      "outputs": [
        {
          "name": "stdout",
          "output_type": "stream",
          "text": [
            "Mounted at /content/drive\n"
          ]
        }
      ],
      "source": [
        "# Load Data\n",
        "from google.colab import drive\n",
        "drive.mount('/content/drive')"
      ]
    },
    {
      "cell_type": "code",
      "execution_count": null,
      "metadata": {
        "colab": {
          "background_save": true
        },
        "id": "nqQZ8Dv7VH7G",
        "outputId": "91e39261-67a4-4367-96d1-d0124e73bcc1"
      },
      "outputs": [
        {
          "data": {
            "text/html": [
              "\n",
              "  <div id=\"df-e5915b8e-bf9d-4705-839e-08e377261331\">\n",
              "    <div class=\"colab-df-container\">\n",
              "      <div>\n",
              "<style scoped>\n",
              "    .dataframe tbody tr th:only-of-type {\n",
              "        vertical-align: middle;\n",
              "    }\n",
              "\n",
              "    .dataframe tbody tr th {\n",
              "        vertical-align: top;\n",
              "    }\n",
              "\n",
              "    .dataframe thead th {\n",
              "        text-align: right;\n",
              "    }\n",
              "</style>\n",
              "<table border=\"1\" class=\"dataframe\">\n",
              "  <thead>\n",
              "    <tr style=\"text-align: right;\">\n",
              "      <th></th>\n",
              "      <th>Unnamed: 0</th>\n",
              "      <th>age</th>\n",
              "      <th>ed</th>\n",
              "      <th>employ</th>\n",
              "      <th>address</th>\n",
              "      <th>income</th>\n",
              "      <th>debtinc</th>\n",
              "      <th>creddebt</th>\n",
              "      <th>othdebt</th>\n",
              "      <th>default</th>\n",
              "    </tr>\n",
              "  </thead>\n",
              "  <tbody>\n",
              "    <tr>\n",
              "      <th>0</th>\n",
              "      <td>0</td>\n",
              "      <td>41</td>\n",
              "      <td>3</td>\n",
              "      <td>17</td>\n",
              "      <td>12</td>\n",
              "      <td>176</td>\n",
              "      <td>9.3</td>\n",
              "      <td>11.359392</td>\n",
              "      <td>5.008608</td>\n",
              "      <td>1.0</td>\n",
              "    </tr>\n",
              "    <tr>\n",
              "      <th>1</th>\n",
              "      <td>1</td>\n",
              "      <td>27</td>\n",
              "      <td>1</td>\n",
              "      <td>10</td>\n",
              "      <td>6</td>\n",
              "      <td>31</td>\n",
              "      <td>17.3</td>\n",
              "      <td>1.362202</td>\n",
              "      <td>4.000798</td>\n",
              "      <td>0.0</td>\n",
              "    </tr>\n",
              "    <tr>\n",
              "      <th>2</th>\n",
              "      <td>2</td>\n",
              "      <td>40</td>\n",
              "      <td>1</td>\n",
              "      <td>15</td>\n",
              "      <td>14</td>\n",
              "      <td>55</td>\n",
              "      <td>5.5</td>\n",
              "      <td>0.856075</td>\n",
              "      <td>2.168925</td>\n",
              "      <td>0.0</td>\n",
              "    </tr>\n",
              "    <tr>\n",
              "      <th>3</th>\n",
              "      <td>3</td>\n",
              "      <td>41</td>\n",
              "      <td>1</td>\n",
              "      <td>15</td>\n",
              "      <td>14</td>\n",
              "      <td>120</td>\n",
              "      <td>2.9</td>\n",
              "      <td>2.658720</td>\n",
              "      <td>0.821280</td>\n",
              "      <td>0.0</td>\n",
              "    </tr>\n",
              "    <tr>\n",
              "      <th>4</th>\n",
              "      <td>4</td>\n",
              "      <td>24</td>\n",
              "      <td>2</td>\n",
              "      <td>2</td>\n",
              "      <td>0</td>\n",
              "      <td>28</td>\n",
              "      <td>17.3</td>\n",
              "      <td>1.787436</td>\n",
              "      <td>3.056564</td>\n",
              "      <td>1.0</td>\n",
              "    </tr>\n",
              "    <tr>\n",
              "      <th>...</th>\n",
              "      <td>...</td>\n",
              "      <td>...</td>\n",
              "      <td>...</td>\n",
              "      <td>...</td>\n",
              "      <td>...</td>\n",
              "      <td>...</td>\n",
              "      <td>...</td>\n",
              "      <td>...</td>\n",
              "      <td>...</td>\n",
              "      <td>...</td>\n",
              "    </tr>\n",
              "    <tr>\n",
              "      <th>695</th>\n",
              "      <td>695</td>\n",
              "      <td>36</td>\n",
              "      <td>2</td>\n",
              "      <td>6</td>\n",
              "      <td>15</td>\n",
              "      <td>27</td>\n",
              "      <td>4.6</td>\n",
              "      <td>0.262062</td>\n",
              "      <td>0.979938</td>\n",
              "      <td>1.0</td>\n",
              "    </tr>\n",
              "    <tr>\n",
              "      <th>696</th>\n",
              "      <td>696</td>\n",
              "      <td>29</td>\n",
              "      <td>2</td>\n",
              "      <td>6</td>\n",
              "      <td>4</td>\n",
              "      <td>21</td>\n",
              "      <td>11.5</td>\n",
              "      <td>0.369495</td>\n",
              "      <td>2.045505</td>\n",
              "      <td>0.0</td>\n",
              "    </tr>\n",
              "    <tr>\n",
              "      <th>697</th>\n",
              "      <td>697</td>\n",
              "      <td>33</td>\n",
              "      <td>1</td>\n",
              "      <td>15</td>\n",
              "      <td>3</td>\n",
              "      <td>32</td>\n",
              "      <td>7.6</td>\n",
              "      <td>0.491264</td>\n",
              "      <td>1.940736</td>\n",
              "      <td>0.0</td>\n",
              "    </tr>\n",
              "    <tr>\n",
              "      <th>698</th>\n",
              "      <td>698</td>\n",
              "      <td>45</td>\n",
              "      <td>1</td>\n",
              "      <td>19</td>\n",
              "      <td>22</td>\n",
              "      <td>77</td>\n",
              "      <td>8.4</td>\n",
              "      <td>2.302608</td>\n",
              "      <td>4.165392</td>\n",
              "      <td>0.0</td>\n",
              "    </tr>\n",
              "    <tr>\n",
              "      <th>699</th>\n",
              "      <td>699</td>\n",
              "      <td>37</td>\n",
              "      <td>1</td>\n",
              "      <td>12</td>\n",
              "      <td>14</td>\n",
              "      <td>44</td>\n",
              "      <td>14.7</td>\n",
              "      <td>2.994684</td>\n",
              "      <td>3.473316</td>\n",
              "      <td>0.0</td>\n",
              "    </tr>\n",
              "  </tbody>\n",
              "</table>\n",
              "<p>700 rows × 10 columns</p>\n",
              "</div>\n",
              "      <button class=\"colab-df-convert\" onclick=\"convertToInteractive('df-e5915b8e-bf9d-4705-839e-08e377261331')\"\n",
              "              title=\"Convert this dataframe to an interactive table.\"\n",
              "              style=\"display:none;\">\n",
              "        \n",
              "  <svg xmlns=\"http://www.w3.org/2000/svg\" height=\"24px\"viewBox=\"0 0 24 24\"\n",
              "       width=\"24px\">\n",
              "    <path d=\"M0 0h24v24H0V0z\" fill=\"none\"/>\n",
              "    <path d=\"M18.56 5.44l.94 2.06.94-2.06 2.06-.94-2.06-.94-.94-2.06-.94 2.06-2.06.94zm-11 1L8.5 8.5l.94-2.06 2.06-.94-2.06-.94L8.5 2.5l-.94 2.06-2.06.94zm10 10l.94 2.06.94-2.06 2.06-.94-2.06-.94-.94-2.06-.94 2.06-2.06.94z\"/><path d=\"M17.41 7.96l-1.37-1.37c-.4-.4-.92-.59-1.43-.59-.52 0-1.04.2-1.43.59L10.3 9.45l-7.72 7.72c-.78.78-.78 2.05 0 2.83L4 21.41c.39.39.9.59 1.41.59.51 0 1.02-.2 1.41-.59l7.78-7.78 2.81-2.81c.8-.78.8-2.07 0-2.86zM5.41 20L4 18.59l7.72-7.72 1.47 1.35L5.41 20z\"/>\n",
              "  </svg>\n",
              "      </button>\n",
              "      \n",
              "  <style>\n",
              "    .colab-df-container {\n",
              "      display:flex;\n",
              "      flex-wrap:wrap;\n",
              "      gap: 12px;\n",
              "    }\n",
              "\n",
              "    .colab-df-convert {\n",
              "      background-color: #E8F0FE;\n",
              "      border: none;\n",
              "      border-radius: 50%;\n",
              "      cursor: pointer;\n",
              "      display: none;\n",
              "      fill: #1967D2;\n",
              "      height: 32px;\n",
              "      padding: 0 0 0 0;\n",
              "      width: 32px;\n",
              "    }\n",
              "\n",
              "    .colab-df-convert:hover {\n",
              "      background-color: #E2EBFA;\n",
              "      box-shadow: 0px 1px 2px rgba(60, 64, 67, 0.3), 0px 1px 3px 1px rgba(60, 64, 67, 0.15);\n",
              "      fill: #174EA6;\n",
              "    }\n",
              "\n",
              "    [theme=dark] .colab-df-convert {\n",
              "      background-color: #3B4455;\n",
              "      fill: #D2E3FC;\n",
              "    }\n",
              "\n",
              "    [theme=dark] .colab-df-convert:hover {\n",
              "      background-color: #434B5C;\n",
              "      box-shadow: 0px 1px 3px 1px rgba(0, 0, 0, 0.15);\n",
              "      filter: drop-shadow(0px 1px 2px rgba(0, 0, 0, 0.3));\n",
              "      fill: #FFFFFF;\n",
              "    }\n",
              "  </style>\n",
              "\n",
              "      <script>\n",
              "        const buttonEl =\n",
              "          document.querySelector('#df-e5915b8e-bf9d-4705-839e-08e377261331 button.colab-df-convert');\n",
              "        buttonEl.style.display =\n",
              "          google.colab.kernel.accessAllowed ? 'block' : 'none';\n",
              "\n",
              "        async function convertToInteractive(key) {\n",
              "          const element = document.querySelector('#df-e5915b8e-bf9d-4705-839e-08e377261331');\n",
              "          const dataTable =\n",
              "            await google.colab.kernel.invokeFunction('convertToInteractive',\n",
              "                                                     [key], {});\n",
              "          if (!dataTable) return;\n",
              "\n",
              "          const docLinkHtml = 'Like what you see? Visit the ' +\n",
              "            '<a target=\"_blank\" href=https://colab.research.google.com/notebooks/data_table.ipynb>data table notebook</a>'\n",
              "            + ' to learn more about interactive tables.';\n",
              "          element.innerHTML = '';\n",
              "          dataTable['output_type'] = 'display_data';\n",
              "          await google.colab.output.renderOutput(dataTable, element);\n",
              "          const docLink = document.createElement('div');\n",
              "          docLink.innerHTML = docLinkHtml;\n",
              "          element.appendChild(docLink);\n",
              "        }\n",
              "      </script>\n",
              "    </div>\n",
              "  </div>\n",
              "  "
            ],
            "text/plain": [
              "     Unnamed: 0  age  ed  employ  address  income  debtinc   creddebt  \\\n",
              "0             0   41   3      17       12     176      9.3  11.359392   \n",
              "1             1   27   1      10        6      31     17.3   1.362202   \n",
              "2             2   40   1      15       14      55      5.5   0.856075   \n",
              "3             3   41   1      15       14     120      2.9   2.658720   \n",
              "4             4   24   2       2        0      28     17.3   1.787436   \n",
              "..          ...  ...  ..     ...      ...     ...      ...        ...   \n",
              "695         695   36   2       6       15      27      4.6   0.262062   \n",
              "696         696   29   2       6        4      21     11.5   0.369495   \n",
              "697         697   33   1      15        3      32      7.6   0.491264   \n",
              "698         698   45   1      19       22      77      8.4   2.302608   \n",
              "699         699   37   1      12       14      44     14.7   2.994684   \n",
              "\n",
              "      othdebt  default  \n",
              "0    5.008608      1.0  \n",
              "1    4.000798      0.0  \n",
              "2    2.168925      0.0  \n",
              "3    0.821280      0.0  \n",
              "4    3.056564      1.0  \n",
              "..        ...      ...  \n",
              "695  0.979938      1.0  \n",
              "696  2.045505      0.0  \n",
              "697  1.940736      0.0  \n",
              "698  4.165392      0.0  \n",
              "699  3.473316      0.0  \n",
              "\n",
              "[700 rows x 10 columns]"
            ]
          },
          "execution_count": 3,
          "metadata": {},
          "output_type": "execute_result"
        }
      ],
      "source": [
        "path='/content/drive/MyDrive/DataSource/credit_risk_1.csv'\n",
        "\n",
        "load_data_cr=pd.read_csv(path)\n",
        "load_data_cr"
      ]
    },
    {
      "cell_type": "code",
      "execution_count": null,
      "metadata": {
        "colab": {
          "background_save": true
        },
        "id": "gquPLpB_XdGK",
        "outputId": "197955ee-664d-4f87-c23b-5ffd312bd26e"
      },
      "outputs": [
        {
          "data": {
            "text/html": [
              "\n",
              "  <div id=\"df-64015604-2d13-41a6-9692-52f56120de03\">\n",
              "    <div class=\"colab-df-container\">\n",
              "      <div>\n",
              "<style scoped>\n",
              "    .dataframe tbody tr th:only-of-type {\n",
              "        vertical-align: middle;\n",
              "    }\n",
              "\n",
              "    .dataframe tbody tr th {\n",
              "        vertical-align: top;\n",
              "    }\n",
              "\n",
              "    .dataframe thead th {\n",
              "        text-align: right;\n",
              "    }\n",
              "</style>\n",
              "<table border=\"1\" class=\"dataframe\">\n",
              "  <thead>\n",
              "    <tr style=\"text-align: right;\">\n",
              "      <th></th>\n",
              "      <th>Unnamed: 0</th>\n",
              "      <th>age</th>\n",
              "      <th>ed</th>\n",
              "      <th>employ</th>\n",
              "      <th>address</th>\n",
              "      <th>income</th>\n",
              "      <th>debtinc</th>\n",
              "      <th>creddebt</th>\n",
              "      <th>othdebt</th>\n",
              "      <th>default</th>\n",
              "    </tr>\n",
              "  </thead>\n",
              "  <tbody>\n",
              "    <tr>\n",
              "      <th>0</th>\n",
              "      <td>0</td>\n",
              "      <td>41</td>\n",
              "      <td>3</td>\n",
              "      <td>17</td>\n",
              "      <td>12</td>\n",
              "      <td>176</td>\n",
              "      <td>9.3</td>\n",
              "      <td>11.359392</td>\n",
              "      <td>5.008608</td>\n",
              "      <td>1.0</td>\n",
              "    </tr>\n",
              "    <tr>\n",
              "      <th>1</th>\n",
              "      <td>1</td>\n",
              "      <td>27</td>\n",
              "      <td>1</td>\n",
              "      <td>10</td>\n",
              "      <td>6</td>\n",
              "      <td>31</td>\n",
              "      <td>17.3</td>\n",
              "      <td>1.362202</td>\n",
              "      <td>4.000798</td>\n",
              "      <td>0.0</td>\n",
              "    </tr>\n",
              "    <tr>\n",
              "      <th>2</th>\n",
              "      <td>2</td>\n",
              "      <td>40</td>\n",
              "      <td>1</td>\n",
              "      <td>15</td>\n",
              "      <td>14</td>\n",
              "      <td>55</td>\n",
              "      <td>5.5</td>\n",
              "      <td>0.856075</td>\n",
              "      <td>2.168925</td>\n",
              "      <td>0.0</td>\n",
              "    </tr>\n",
              "    <tr>\n",
              "      <th>3</th>\n",
              "      <td>3</td>\n",
              "      <td>41</td>\n",
              "      <td>1</td>\n",
              "      <td>15</td>\n",
              "      <td>14</td>\n",
              "      <td>120</td>\n",
              "      <td>2.9</td>\n",
              "      <td>2.658720</td>\n",
              "      <td>0.821280</td>\n",
              "      <td>0.0</td>\n",
              "    </tr>\n",
              "    <tr>\n",
              "      <th>4</th>\n",
              "      <td>4</td>\n",
              "      <td>24</td>\n",
              "      <td>2</td>\n",
              "      <td>2</td>\n",
              "      <td>0</td>\n",
              "      <td>28</td>\n",
              "      <td>17.3</td>\n",
              "      <td>1.787436</td>\n",
              "      <td>3.056564</td>\n",
              "      <td>1.0</td>\n",
              "    </tr>\n",
              "  </tbody>\n",
              "</table>\n",
              "</div>\n",
              "      <button class=\"colab-df-convert\" onclick=\"convertToInteractive('df-64015604-2d13-41a6-9692-52f56120de03')\"\n",
              "              title=\"Convert this dataframe to an interactive table.\"\n",
              "              style=\"display:none;\">\n",
              "        \n",
              "  <svg xmlns=\"http://www.w3.org/2000/svg\" height=\"24px\"viewBox=\"0 0 24 24\"\n",
              "       width=\"24px\">\n",
              "    <path d=\"M0 0h24v24H0V0z\" fill=\"none\"/>\n",
              "    <path d=\"M18.56 5.44l.94 2.06.94-2.06 2.06-.94-2.06-.94-.94-2.06-.94 2.06-2.06.94zm-11 1L8.5 8.5l.94-2.06 2.06-.94-2.06-.94L8.5 2.5l-.94 2.06-2.06.94zm10 10l.94 2.06.94-2.06 2.06-.94-2.06-.94-.94-2.06-.94 2.06-2.06.94z\"/><path d=\"M17.41 7.96l-1.37-1.37c-.4-.4-.92-.59-1.43-.59-.52 0-1.04.2-1.43.59L10.3 9.45l-7.72 7.72c-.78.78-.78 2.05 0 2.83L4 21.41c.39.39.9.59 1.41.59.51 0 1.02-.2 1.41-.59l7.78-7.78 2.81-2.81c.8-.78.8-2.07 0-2.86zM5.41 20L4 18.59l7.72-7.72 1.47 1.35L5.41 20z\"/>\n",
              "  </svg>\n",
              "      </button>\n",
              "      \n",
              "  <style>\n",
              "    .colab-df-container {\n",
              "      display:flex;\n",
              "      flex-wrap:wrap;\n",
              "      gap: 12px;\n",
              "    }\n",
              "\n",
              "    .colab-df-convert {\n",
              "      background-color: #E8F0FE;\n",
              "      border: none;\n",
              "      border-radius: 50%;\n",
              "      cursor: pointer;\n",
              "      display: none;\n",
              "      fill: #1967D2;\n",
              "      height: 32px;\n",
              "      padding: 0 0 0 0;\n",
              "      width: 32px;\n",
              "    }\n",
              "\n",
              "    .colab-df-convert:hover {\n",
              "      background-color: #E2EBFA;\n",
              "      box-shadow: 0px 1px 2px rgba(60, 64, 67, 0.3), 0px 1px 3px 1px rgba(60, 64, 67, 0.15);\n",
              "      fill: #174EA6;\n",
              "    }\n",
              "\n",
              "    [theme=dark] .colab-df-convert {\n",
              "      background-color: #3B4455;\n",
              "      fill: #D2E3FC;\n",
              "    }\n",
              "\n",
              "    [theme=dark] .colab-df-convert:hover {\n",
              "      background-color: #434B5C;\n",
              "      box-shadow: 0px 1px 3px 1px rgba(0, 0, 0, 0.15);\n",
              "      filter: drop-shadow(0px 1px 2px rgba(0, 0, 0, 0.3));\n",
              "      fill: #FFFFFF;\n",
              "    }\n",
              "  </style>\n",
              "\n",
              "      <script>\n",
              "        const buttonEl =\n",
              "          document.querySelector('#df-64015604-2d13-41a6-9692-52f56120de03 button.colab-df-convert');\n",
              "        buttonEl.style.display =\n",
              "          google.colab.kernel.accessAllowed ? 'block' : 'none';\n",
              "\n",
              "        async function convertToInteractive(key) {\n",
              "          const element = document.querySelector('#df-64015604-2d13-41a6-9692-52f56120de03');\n",
              "          const dataTable =\n",
              "            await google.colab.kernel.invokeFunction('convertToInteractive',\n",
              "                                                     [key], {});\n",
              "          if (!dataTable) return;\n",
              "\n",
              "          const docLinkHtml = 'Like what you see? Visit the ' +\n",
              "            '<a target=\"_blank\" href=https://colab.research.google.com/notebooks/data_table.ipynb>data table notebook</a>'\n",
              "            + ' to learn more about interactive tables.';\n",
              "          element.innerHTML = '';\n",
              "          dataTable['output_type'] = 'display_data';\n",
              "          await google.colab.output.renderOutput(dataTable, element);\n",
              "          const docLink = document.createElement('div');\n",
              "          docLink.innerHTML = docLinkHtml;\n",
              "          element.appendChild(docLink);\n",
              "        }\n",
              "      </script>\n",
              "    </div>\n",
              "  </div>\n",
              "  "
            ],
            "text/plain": [
              "   Unnamed: 0  age  ed  employ  address  income  debtinc   creddebt   othdebt  \\\n",
              "0           0   41   3      17       12     176      9.3  11.359392  5.008608   \n",
              "1           1   27   1      10        6      31     17.3   1.362202  4.000798   \n",
              "2           2   40   1      15       14      55      5.5   0.856075  2.168925   \n",
              "3           3   41   1      15       14     120      2.9   2.658720  0.821280   \n",
              "4           4   24   2       2        0      28     17.3   1.787436  3.056564   \n",
              "\n",
              "   default  \n",
              "0      1.0  \n",
              "1      0.0  \n",
              "2      0.0  \n",
              "3      0.0  \n",
              "4      1.0  "
            ]
          },
          "execution_count": 4,
          "metadata": {},
          "output_type": "execute_result"
        }
      ],
      "source": [
        "## Membuat data Frame\n",
        "\n",
        "df=pd.DataFrame(load_data_cr)\n",
        "df.head()"
      ]
    },
    {
      "cell_type": "markdown",
      "metadata": {
        "id": "ynqlCdaVY0zc"
      },
      "source": [
        "Data Description There are 9 attribute containing 700 customer records followed by:\n",
        "\n",
        "age: Umur nasabah\n",
        "\n",
        "ed: level pendidikan nasabah\n",
        "\n",
        "employ: Masa jabatan dengan pemberi kerja saat ini (dalam tahun)\n",
        "\n",
        "address: Jumlah tahun di alamat yang sama\n",
        "\n",
        "income: Pendapatan nasabah\n",
        "\n",
        "debtinc: Debt to income ratio (Rasio hutang terhadap pendapatan) Rasio hutang terhadap pendapatan adalah semua pembayaran hutang bulanan anda dibagi dengan pendapatan kotor bulanan anda. Angka ini adalah salah satu cara pemberi pinjaman mengukur kemampuan anda untuk mengelola pembayaran bulanan untuk melunasi uang yang anda rencanakan untuk dipinjam. Ratio hutang terhadap pendapatan anda secara langsung mempengaruhi nilai kredit anda . ini karena lembaga kredit tidak tahu berapa banyak uang yang anda peroleh, sehingga mereka tidak dapat melakukan perhitungan\n",
        "\n",
        "creddebt: Credit to debt Ratio (Rasio kredit terhadap hutang)menunjukkan bahwa presentase rasio hutang terhadap kredit yang baik dibawah 30%. Dan itu berlaku untuk rasio anda pada salah satu  kartu anda secara terpisah serta untuk rasio keseluruhan anda.\n",
        "\n",
        "othdebt : Utang lainnya\n",
        "\n",
        "default : Label nasabah gagal di masa lalu (1 = gagal , 0 = tidak pernah gagal)"
      ]
    },
    {
      "cell_type": "code",
      "execution_count": null,
      "metadata": {
        "colab": {
          "background_save": true
        },
        "id": "fmASZawrepZI",
        "outputId": "8be0a13a-783d-4a35-9063-6d9cf1d586f6"
      },
      "outputs": [
        {
          "name": "stdout",
          "output_type": "stream",
          "text": [
            "<class 'pandas.core.frame.DataFrame'>\n",
            "RangeIndex: 700 entries, 0 to 699\n",
            "Data columns (total 10 columns):\n",
            " #   Column      Non-Null Count  Dtype  \n",
            "---  ------      --------------  -----  \n",
            " 0   Unnamed: 0  700 non-null    int64  \n",
            " 1   age         700 non-null    int64  \n",
            " 2   ed          700 non-null    int64  \n",
            " 3   employ      700 non-null    int64  \n",
            " 4   address     700 non-null    int64  \n",
            " 5   income      700 non-null    int64  \n",
            " 6   debtinc     700 non-null    float64\n",
            " 7   creddebt    700 non-null    float64\n",
            " 8   othdebt     700 non-null    float64\n",
            " 9   default     700 non-null    float64\n",
            "dtypes: float64(4), int64(6)\n",
            "memory usage: 54.8 KB\n"
          ]
        }
      ],
      "source": [
        "df.info()"
      ]
    },
    {
      "cell_type": "code",
      "execution_count": null,
      "metadata": {
        "colab": {
          "background_save": true
        },
        "id": "-qjKa0XAe8Qz",
        "outputId": "941c786c-4470-4945-bb1e-4ed34ba1bc73"
      },
      "outputs": [
        {
          "data": {
            "text/plain": [
              "Unnamed: 0    0\n",
              "age           0\n",
              "ed            0\n",
              "employ        0\n",
              "address       0\n",
              "income        0\n",
              "debtinc       0\n",
              "creddebt      0\n",
              "othdebt       0\n",
              "default       0\n",
              "dtype: int64"
            ]
          },
          "execution_count": 6,
          "metadata": {},
          "output_type": "execute_result"
        }
      ],
      "source": [
        "df.isnull().sum()"
      ]
    },
    {
      "cell_type": "code",
      "execution_count": null,
      "metadata": {
        "colab": {
          "background_save": true
        },
        "id": "xuw_yIRLsIr0",
        "outputId": "0e365c57-1442-451c-8f78-d36f3e0ab5b8"
      },
      "outputs": [
        {
          "data": {
            "text/plain": [
              "0.0    517\n",
              "1.0    183\n",
              "Name: default, dtype: int64"
            ]
          },
          "execution_count": 7,
          "metadata": {},
          "output_type": "execute_result"
        }
      ],
      "source": [
        "#Melakukan cek value jumlah default berdasarkan gagal atau tidak (1 atau 0)\n",
        "\n",
        "df['default'].value_counts()"
      ]
    },
    {
      "cell_type": "code",
      "execution_count": null,
      "metadata": {
        "colab": {
          "background_save": true
        },
        "id": "bPL0bAJMsr0W",
        "outputId": "ab1fad3e-a326-4167-d238-9b412484cda1"
      },
      "outputs": [
        {
          "data": {
            "text/plain": [
              "1    372\n",
              "2    198\n",
              "3     87\n",
              "4     38\n",
              "5      5\n",
              "Name: ed, dtype: int64"
            ]
          },
          "execution_count": 8,
          "metadata": {},
          "output_type": "execute_result"
        }
      ],
      "source": [
        "df['ed'].value_counts()"
      ]
    },
    {
      "cell_type": "code",
      "execution_count": null,
      "metadata": {
        "colab": {
          "background_save": true
        },
        "id": "02iC8WF5s4q3"
      },
      "outputs": [],
      "source": [
        "df_data_cr=pd.DataFrame(load_data_cr)"
      ]
    },
    {
      "cell_type": "code",
      "execution_count": null,
      "metadata": {
        "colab": {
          "background_save": true
        },
        "id": "dIKgTtattftv"
      },
      "outputs": [],
      "source": [
        "df=df_data_cr[['age','ed','employ','address','income','debtinc','creddebt','othdebt','default']]"
      ]
    },
    {
      "cell_type": "code",
      "execution_count": null,
      "metadata": {
        "colab": {
          "background_save": true
        },
        "id": "_e5oO-YUoh14",
        "outputId": "b1236468-3fd1-4598-d836-c8813a04e40f"
      },
      "outputs": [
        {
          "data": {
            "image/png": "[encoded data removed]",
            "text/plain": [
              "<Figure size 640x480 with 1 Axes>"
            ]
          },
          "metadata": {},
          "output_type": "display_data"
        }
      ],
      "source": [
        "#Menganalisa kondisi data kita, melihat outlier pada data\n",
        "#Blockpot\n",
        "\n",
        "sns.boxplot(x = 'variable', y = 'value', data = pd.melt(df))\n",
        "plt.show()"
      ]
    },
    {
      "cell_type": "markdown",
      "metadata": {
        "id": "MSAln-3UpH6s"
      },
      "source": [
        "variabel income memimiliki nilai yang cenderung tinggi daripada variabel lainnya. Karena INCOME itu adalah UANG"
      ]
    },
    {
      "cell_type": "code",
      "execution_count": null,
      "metadata": {
        "colab": {
          "background_save": true
        },
        "id": "tHEQ7GiIpdra"
      },
      "outputs": [],
      "source": [
        "df_a=df[['age','ed','employ','address','debtinc','creddebt','othdebt']]"
      ]
    },
    {
      "cell_type": "code",
      "execution_count": null,
      "metadata": {
        "colab": {
          "background_save": true
        },
        "id": "iz7yvAIUqGwk",
        "outputId": "9b0823a7-e501-40df-87db-0f4c1aad369e"
      },
      "outputs": [
        {
          "data": {
            "image/png": "[encoded data removed]",
            "text/plain": [
              "<Figure size 640x480 with 1 Axes>"
            ]
          },
          "metadata": {},
          "output_type": "display_data"
        }
      ],
      "source": [
        "sns.boxplot(x = 'variable', y = 'value', data = pd.melt(df_a))\n",
        "plt.show()"
      ]
    },
    {
      "cell_type": "code",
      "execution_count": null,
      "metadata": {
        "colab": {
          "background_save": true
        },
        "id": "srxYNTPgrVX8",
        "outputId": "0e1e6dda-590c-4e66-ba3e-67832eeb6b84"
      },
      "outputs": [
        {
          "data": {
            "image/png": "[encoded data removed]",
            "text/plain": [
              "<Figure size 640x480 with 1 Axes>"
            ]
          },
          "metadata": {},
          "output_type": "display_data"
        }
      ],
      "source": [
        "df_b=df[['ed']]\n",
        "\n",
        "sns.boxplot(x = 'variable', y = 'value', data = pd.melt(df_b))\n",
        "plt.show()"
      ]
    },
    {
      "cell_type": "markdown",
      "metadata": {
        "id": "k3NueoATw32c"
      },
      "source": [
        "1. calon nasabah kredit didominasi usia diatas 20\n",
        "2. tingkat pendidikan calon nasabah ada 5 yaitu SD/SMP/SMA/S1/S2. Dimana tingkat pendidikan 1 dan 2 berada pada area bloxplot (sebarannya banyak), sedangkan ED 3 --> lebih sedikit. Makin sedikit level pendidikan maka makin besar peluang pengajuan kreditnya\n",
        "3. Orang mengajukan kredit jika mereka saudah diatas 2 tahun tinggal ditempat yang sama,jabatan yang sama, rasio debtic dalam 2 tahun (nilainya sama)\n",
        "4. Ada banyak calon nasabah kredit memiliki hutang lainnya"
      ]
    },
    {
      "cell_type": "code",
      "execution_count": null,
      "metadata": {
        "colab": {
          "background_save": true
        },
        "id": "iKBLtpCKy4oG",
        "outputId": "774b873d-209f-4861-cc4e-c5d782fcc403"
      },
      "outputs": [
        {
          "data": {
            "text/plain": [
              "<seaborn.axisgrid.FacetGrid at 0x7f00b15bf130>"
            ]
          },
          "execution_count": 15,
          "metadata": {},
          "output_type": "execute_result"
        },
        {
          "data": {
            "image/png": "[encoded data removed]",
            "text/plain": [
              "<Figure size 1572x300 with 5 Axes>"
            ]
          },
          "metadata": {},
          "output_type": "display_data"
        }
      ],
      "source": [
        "scatplot = sns.FacetGrid(df_data_cr, col = 'ed', hue = 'default')\n",
        "scatplot.map(plt.scatter, 'age','othdebt', alpha=.7)\n",
        "scatplot.add_legend()"
      ]
    },
    {
      "cell_type": "markdown",
      "metadata": {
        "id": "0Ih3ddj9z1uX"
      },
      "source": [
        "1. Potensi gagal bayar didominasi pada range usia 20 sd 30 pada level ED 1\n",
        "2. Potensi gagal bayar didominasi pada range usia 20 sd 35 pada level ED 2\n",
        "3. Potensi gagal bayar didominasi pada range usia 20 sd 45 pada level ED 3\n",
        "4. Potensi gagal bayar didominasi pada range usia 20 sd 28 pada level ED 4\n",
        "5. Potensi gagal bayar didominasi pada range usia diatas 50 pada level ED 5"
      ]
    },
    {
      "cell_type": "markdown",
      "metadata": {
        "id": "2pjZfTMx04dQ"
      },
      "source": [
        "## Data Preparation\n",
        "\n",
        "\n",
        "NULL value NAN value"
      ]
    },
    {
      "cell_type": "code",
      "execution_count": null,
      "metadata": {
        "colab": {
          "background_save": true
        },
        "id": "mt3vcB7Z1i1D",
        "outputId": "c7a0be25-123e-4e9c-a4ec-0822397735b7"
      },
      "outputs": [
        {
          "data": {
            "text/plain": [
              "age         0\n",
              "ed          0\n",
              "employ      0\n",
              "address     0\n",
              "income      0\n",
              "debtinc     0\n",
              "creddebt    0\n",
              "othdebt     0\n",
              "default     0\n",
              "dtype: int64"
            ]
          },
          "execution_count": 16,
          "metadata": {},
          "output_type": "execute_result"
        }
      ],
      "source": [
        "df.isnull().sum()"
      ]
    },
    {
      "cell_type": "code",
      "execution_count": null,
      "metadata": {
        "colab": {
          "background_save": true
        },
        "id": "NzrkHSXT1vup",
        "outputId": "c5f880f0-6af5-4d1a-b856-f40bfd864a31"
      },
      "outputs": [
        {
          "data": {
            "text/plain": [
              "age         0\n",
              "ed          0\n",
              "employ      0\n",
              "address     0\n",
              "income      0\n",
              "debtinc     0\n",
              "creddebt    0\n",
              "othdebt     0\n",
              "default     0\n",
              "dtype: int64"
            ]
          },
          "execution_count": 17,
          "metadata": {},
          "output_type": "execute_result"
        }
      ],
      "source": [
        "df.isna().sum()"
      ]
    },
    {
      "cell_type": "markdown",
      "metadata": {
        "id": "bMlSvkvm8-XY"
      },
      "source": [
        "## Pemodelan Data"
      ]
    },
    {
      "cell_type": "code",
      "execution_count": null,
      "metadata": {
        "colab": {
          "background_save": true
        },
        "id": "pAqLmIhs2qrs"
      },
      "outputs": [],
      "source": [
        "#SPLIT Training and Testing\n",
        "\n",
        "from sklearn.model_selection import train_test_split # Import train_tes_split function\n",
        "from sklearn import metrics #Import scikit-learn matrics module for accuracy calculation"
      ]
    },
    {
      "cell_type": "code",
      "execution_count": null,
      "metadata": {
        "colab": {
          "background_save": true
        },
        "id": "5lzvC3pi4frk"
      },
      "outputs": [],
      "source": [
        "#Evaluation Model\n",
        "\n",
        "from sklearn.metrics import accuracy_score\n",
        "from sklearn.metrics import classification_report\n",
        "from sklearn.metrics import precision_score, recall_score\n",
        "from sklearn.metrics import confusion_matrix"
      ]
    },
    {
      "cell_type": "code",
      "execution_count": null,
      "metadata": {
        "colab": {
          "background_save": true
        },
        "id": "WiZJlG2a5uZg"
      },
      "outputs": [],
      "source": [
        "#Input variabel\n",
        "x=df[['age','ed','employ','address','income','debtinc','creddebt','othdebt']]\n",
        "\n",
        "#Target Variabel\n",
        "y=df['default'].astype('category')"
      ]
    },
    {
      "cell_type": "code",
      "execution_count": null,
      "metadata": {
        "colab": {
          "background_save": true
        },
        "id": "yc85D1ou6-2J"
      },
      "outputs": [],
      "source": [
        "#SPLIT Testing & Training ======= Supervised Learning\n",
        "\n",
        "x_train,x_test,y_train,y_test=train_test_split(x,y, test_size=0.3, random_state=0)"
      ]
    },
    {
      "cell_type": "markdown",
      "metadata": {
        "id": "w3DysvpO7vMv"
      },
      "source": [
        "Data Training 70% dan Testing 30%"
      ]
    },
    {
      "cell_type": "markdown",
      "metadata": {
        "id": "v9zohoNf74m0"
      },
      "source": [
        "## Pemodelan Menggunakan Decision Tree"
      ]
    },
    {
      "cell_type": "code",
      "execution_count": null,
      "metadata": {
        "colab": {
          "background_save": true
        },
        "id": "KLiZkYSu9KQP"
      },
      "outputs": [],
      "source": [
        "from sklearn.tree import DecisionTreeClassifier #Import Decision Tree Classifier"
      ]
    },
    {
      "cell_type": "code",
      "execution_count": null,
      "metadata": {
        "colab": {
          "background_save": true
        },
        "id": "ypQO_QlB91jY"
      },
      "outputs": [],
      "source": [
        "#Membuat object algoritma Decision Tree Klasifikasi\n",
        "tree=DecisionTreeClassifier(criterion='gini',splitter='best',max_depth=6)\n",
        "\n",
        "#Memodelkan data menggunakan algoritma decision tree\n",
        "model_tree=tree.fit(x_train,y_train)\n",
        "\n",
        "#Melakukan Predict pada data test\n",
        "pred_tree=model_tree.predict(x_test)"
      ]
    },
    {
      "cell_type": "markdown",
      "metadata": {
        "id": "PetmpZAF-3DO"
      },
      "source": [
        "## Evaluation Decision Tree Klasifikasi"
      ]
    },
    {
      "cell_type": "code",
      "execution_count": null,
      "metadata": {
        "colab": {
          "background_save": true
        },
        "id": "vxAccSJS-9_Y",
        "outputId": "b987de72-aec7-4b7d-8972-5af4975de40b"
      },
      "outputs": [
        {
          "name": "stdout",
          "output_type": "stream",
          "text": [
            "              precision    recall  f1-score   support\n",
            "\n",
            "         0.0       0.83      0.80      0.81       155\n",
            "         1.0       0.48      0.53      0.50        55\n",
            "\n",
            "    accuracy                           0.73       210\n",
            "   macro avg       0.66      0.66      0.66       210\n",
            "weighted avg       0.74      0.73      0.73       210\n",
            "\n"
          ]
        }
      ],
      "source": [
        "print(classification_report(y_test,pred_tree))"
      ]
    },
    {
      "cell_type": "markdown",
      "metadata": {
        "id": "ocrbQx-h_fNo"
      },
      "source": [
        "Model Tidak Bisa dipergunakan"
      ]
    },
    {
      "cell_type": "code",
      "execution_count": null,
      "metadata": {
        "colab": {
          "background_save": true
        },
        "id": "7cavLURP_mhD",
        "outputId": "a4bbd916-e872-45c6-e3a1-31eefd05de19"
      },
      "outputs": [
        {
          "data": {
            "text/plain": [
              "Text(113.9222222222222, 0.5, 'predicted label')"
            ]
          },
          "execution_count": 25,
          "metadata": {},
          "output_type": "execute_result"
        },
        {
          "data": {
            "image/png": "[encoded data removed]",
            "text/plain": [
              "<Figure size 640x480 with 1 Axes>"
            ]
          },
          "metadata": {},
          "output_type": "display_data"
        }
      ],
      "source": [
        "# Visualize the confusion matrix of Decision Tree\n",
        "mat = confusion_matrix (y_test, pred_tree)\n",
        "sns.heatmap(mat.T, square = True, annot = True, fmt = 'd',cbar= False)\n",
        "plt.xlabel('true label')\n",
        "plt.ylabel('predicted label')"
      ]
    },
    {
      "cell_type": "code",
      "execution_count": null,
      "metadata": {
        "colab": {
          "background_save": true
        },
        "id": "caJVRaGLFIS4",
        "outputId": "1847015e-52a0-4d53-edb4-cc5a31aacd51"
      },
      "outputs": [
        {
          "data": {
            "text/plain": [
              "<Axes: >"
            ]
          },
          "execution_count": 26,
          "metadata": {},
          "output_type": "execute_result"
        },
        {
          "data": {
            "image/png": "[encoded data removed]",
            "text/plain": [
              "<Figure size 640x480 with 1 Axes>"
            ]
          },
          "metadata": {},
          "output_type": "display_data"
        }
      ],
      "source": [
        "#Signifikan factor dari model tersebut yang menggambarkan nasabah gagal bayar / tidak\n",
        "\n",
        "feat_importances=pd.Series(model_tree.feature_importances_,index=x.columns)\n",
        "feat_importances.nlargest(10).plot(kind='barh')"
      ]
    },
    {
      "cell_type": "markdown",
      "metadata": {
        "id": "zXAR2Ug5ILuS"
      },
      "source": [
        "## Pemodelan Menggunakan Random Forrest"
      ]
    },
    {
      "cell_type": "code",
      "execution_count": null,
      "metadata": {
        "colab": {
          "background_save": true
        },
        "id": "zcK9jEZEISxh"
      },
      "outputs": [],
      "source": [
        "from sklearn.ensemble import RandomForestClassifier\n",
        "from sklearn.preprocessing import LabelEncoder\n",
        "from sklearn.preprocessing import StandardScaler"
      ]
    },
    {
      "cell_type": "code",
      "execution_count": null,
      "metadata": {
        "colab": {
          "background_save": true
        },
        "id": "RUCY4qPUI45T"
      },
      "outputs": [],
      "source": [
        "#Membuat object algoritma Random Forest\n",
        "clf_rf=RandomForestClassifier()\n",
        "\n",
        "#Memodelkan data menggunakan algoritma Random Forest\n",
        "model_rf=clf_rf.fit(x_train,y_train)\n",
        "\n",
        "#Melakukan Predict pada data test\n",
        "pred_rf=model_rf.predict(x_test)"
      ]
    },
    {
      "cell_type": "markdown",
      "metadata": {
        "id": "9W5cMwrOKEDW"
      },
      "source": [
        "## Evaluation Model Random Forest"
      ]
    },
    {
      "cell_type": "code",
      "execution_count": null,
      "metadata": {
        "colab": {
          "background_save": true
        },
        "id": "oLLtIHvrJ33T",
        "outputId": "d5a28e4f-b614-45a3-eba8-c98a63c5c760"
      },
      "outputs": [
        {
          "name": "stdout",
          "output_type": "stream",
          "text": [
            "              precision    recall  f1-score   support\n",
            "\n",
            "         0.0       0.81      0.95      0.88       155\n",
            "         1.0       0.72      0.38      0.50        55\n",
            "\n",
            "    accuracy                           0.80       210\n",
            "   macro avg       0.77      0.67      0.69       210\n",
            "weighted avg       0.79      0.80      0.78       210\n",
            "\n"
          ]
        }
      ],
      "source": [
        "print(classification_report(y_test,pred_rf))"
      ]
    },
    {
      "cell_type": "code",
      "execution_count": null,
      "metadata": {
        "colab": {
          "background_save": true
        },
        "id": "KR5nyNE6K7Tr",
        "outputId": "56467eb7-1f9c-4729-9a82-2033575f6c19"
      },
      "outputs": [
        {
          "data": {
            "text/plain": [
              "Text(113.9222222222222, 0.5, 'predicted label')"
            ]
          },
          "execution_count": 30,
          "metadata": {},
          "output_type": "execute_result"
        },
        {
          "data": {
            "image/png": "[encoded data removed]",
            "text/plain": [
              "<Figure size 640x480 with 1 Axes>"
            ]
          },
          "metadata": {},
          "output_type": "display_data"
        }
      ],
      "source": [
        "# Visualize the confusion matrix of Random Forest\n",
        "mat = confusion_matrix (y_test, pred_rf)\n",
        "sns.heatmap(mat.T, square = True, annot = True, fmt = 'd',cbar= False)\n",
        "plt.xlabel('true label')\n",
        "plt.ylabel('predicted label')"
      ]
    },
    {
      "cell_type": "code",
      "execution_count": null,
      "metadata": {
        "colab": {
          "background_save": true
        },
        "id": "bn9CRRQpLlgT",
        "outputId": "7fc24a80-b617-49e6-937f-67cf55ea0751"
      },
      "outputs": [
        {
          "data": {
            "text/plain": [
              "<Axes: >"
            ]
          },
          "execution_count": 31,
          "metadata": {},
          "output_type": "execute_result"
        },
        {
          "data": {
            "image/png": "[encoded data removed]",
            "text/plain": [
              "<Figure size 640x480 with 1 Axes>"
            ]
          },
          "metadata": {},
          "output_type": "display_data"
        }
      ],
      "source": [
        "#Signifikan factor Model Random Forset dari model tersebut yang menggambarkan nasabah gagal bayar / tidak\n",
        "\n",
        "feat_importances=pd.Series(model_rf.feature_importances_,index=x.columns)\n",
        "feat_importances.nlargest(10).plot(kind='barh')"
      ]
    },
    {
      "cell_type": "markdown",
      "metadata": {
        "id": "CmWaLA8fL8m3"
      },
      "source": [
        "## Pemodelan Menggunakan XGBOOST Classifier"
      ]
    },
    {
      "cell_type": "code",
      "execution_count": null,
      "metadata": {
        "colab": {
          "background_save": true
        },
        "id": "Lf7RfLnJMFOY"
      },
      "outputs": [],
      "source": [
        "from xgboost import XGBClassifier"
      ]
    },
    {
      "cell_type": "code",
      "execution_count": null,
      "metadata": {
        "colab": {
          "background_save": true
        },
        "id": "55H2RlqdMTZt"
      },
      "outputs": [],
      "source": [
        "#Membuat object algoritma xgboost\n",
        "clf_xg=RandomForestClassifier()\n",
        "\n",
        "#Memodelkan data menggunakan algoritma xgboost\n",
        "model_xg=clf_xg.fit(x_train,y_train)\n",
        "\n",
        "#Melakukan Predict pada data test\n",
        "pred_xg=model_xg.predict(x_test)"
      ]
    },
    {
      "cell_type": "markdown",
      "metadata": {
        "id": "Q1wXJKRhM9dT"
      },
      "source": [
        "## Evaluasi Classification Report"
      ]
    },
    {
      "cell_type": "code",
      "execution_count": null,
      "metadata": {
        "colab": {
          "background_save": true
        },
        "id": "XeEFnV05M2qI",
        "outputId": "67473fb3-cedd-45c9-d141-8b33f1b6ceb1"
      },
      "outputs": [
        {
          "name": "stdout",
          "output_type": "stream",
          "text": [
            "              precision    recall  f1-score   support\n",
            "\n",
            "         0.0       0.81      0.92      0.86       155\n",
            "         1.0       0.62      0.38      0.47        55\n",
            "\n",
            "    accuracy                           0.78       210\n",
            "   macro avg       0.71      0.65      0.66       210\n",
            "weighted avg       0.76      0.78      0.76       210\n",
            "\n"
          ]
        }
      ],
      "source": [
        "print(classification_report(y_test,pred_xg))"
      ]
    },
    {
      "cell_type": "code",
      "execution_count": null,
      "metadata": {
        "colab": {
          "background_save": true
        },
        "id": "HRWscn6cNxrS",
        "outputId": "90ef186f-a32b-4957-efee-cbdf60e626a7"
      },
      "outputs": [
        {
          "data": {
            "text/plain": [
              "Text(113.9222222222222, 0.5, 'predicted label')"
            ]
          },
          "execution_count": 35,
          "metadata": {},
          "output_type": "execute_result"
        },
        {
          "data": {
            "image/png": "[encoded data removed]",
            "text/plain": [
              "<Figure size 640x480 with 1 Axes>"
            ]
          },
          "metadata": {},
          "output_type": "display_data"
        }
      ],
      "source": [
        "# Visualize the confusion matrix of xgboost\n",
        "mat = confusion_matrix (y_test, pred_xg)\n",
        "sns.heatmap(mat.T, square = True, annot = True, fmt = 'd',cbar= False)\n",
        "plt.xlabel('true label')\n",
        "plt.ylabel('predicted label')"
      ]
    },
    {
      "cell_type": "code",
      "execution_count": null,
      "metadata": {
        "colab": {
          "background_save": true
        },
        "id": "fFSCSkX0OAdP",
        "outputId": "0bed3d51-60f1-482c-c2e2-04acfbd15099"
      },
      "outputs": [
        {
          "data": {
            "text/plain": [
              "<Axes: >"
            ]
          },
          "execution_count": 36,
          "metadata": {},
          "output_type": "execute_result"
        },
        {
          "data": {
            "image/png": "[encoded data removed]",
            "text/plain": [
              "<Figure size 640x480 with 1 Axes>"
            ]
          },
          "metadata": {},
          "output_type": "display_data"
        }
      ],
      "source": [
        "#Signifikan factor Model XGBOOST dari model tersebut yang menggambarkan nasabah gagal bayar / tidak\n",
        "\n",
        "feat_importances=pd.Series(model_xg.feature_importances_,index=x.columns)\n",
        "feat_importances.nlargest(10).plot(kind='barh')"
      ]
    },
    {
      "cell_type": "markdown",
      "metadata": {
        "id": "RHYOAD8Rut0t"
      },
      "source": [
        "## Pemodelan Menggunakan Logistic Regression"
      ]
    },
    {
      "cell_type": "code",
      "execution_count": null,
      "metadata": {
        "colab": {
          "background_save": true
        },
        "id": "qys_xpEgvAsE"
      },
      "outputs": [],
      "source": [
        "from sklearn.linear_model import LogisticRegression"
      ]
    },
    {
      "cell_type": "code",
      "execution_count": null,
      "metadata": {
        "colab": {
          "background_save": true
        },
        "id": "_zRFSJCmvPjU"
      },
      "outputs": [],
      "source": [
        "#Membuat object algoritma Logistik Regression\n",
        "clf_lg=LogisticRegression()\n",
        "\n",
        "#Memodelkan data menggunakan algoritma Logistik Regression\n",
        "model_lg=clf_lg.fit(x_train,y_train)\n",
        "\n",
        "#Melakukan Predict pada data test\n",
        "pred_lg=model_lg.predict(x_test)"
      ]
    },
    {
      "cell_type": "markdown",
      "metadata": {
        "id": "01QqR16Qv3Gb"
      },
      "source": [
        "## Evaluasi Pemodelan Logistik Regression"
      ]
    },
    {
      "cell_type": "code",
      "execution_count": null,
      "metadata": {
        "colab": {
          "background_save": true
        },
        "id": "suopkkLKv-Rp",
        "outputId": "38857e8b-2966-4b15-858d-c65931b634e6"
      },
      "outputs": [
        {
          "name": "stdout",
          "output_type": "stream",
          "text": [
            "              precision    recall  f1-score   support\n",
            "\n",
            "         0.0       0.82      0.95      0.88       155\n",
            "         1.0       0.73      0.40      0.52        55\n",
            "\n",
            "    accuracy                           0.80       210\n",
            "   macro avg       0.77      0.67      0.70       210\n",
            "weighted avg       0.79      0.80      0.78       210\n",
            "\n"
          ]
        }
      ],
      "source": [
        "print(classification_report(y_test,pred_lg))"
      ]
    },
    {
      "cell_type": "code",
      "execution_count": null,
      "metadata": {
        "id": "h-Aaptva2_qD"
      },
      "outputs": [],
      "source": [
        "# Visualize the confusion matrix of logistic Regression\n",
        "mat = confusion_matrix (y_test, pred_lg)\n",
        "sns.heatmap(mat.T, square = True, annot = True, fmt = 'd',cbar= False)\n",
        "plt.xlabel('true label')\n",
        "plt.ylabel('predicted label')"
      ]
    },
    {
      "cell_type": "markdown",
      "metadata": {
        "id": "6oJhJpCg32_f"
      },
      "source": [
        "## Pemodelan Menggunakan SVM"
      ]
    },
    {
      "cell_type": "code",
      "execution_count": null,
      "metadata": {
        "id": "Vi4c_gUw37h2"
      },
      "outputs": [],
      "source": [
        "# Import SVM\n",
        "from sklearn.svm import SVC"
      ]
    },
    {
      "cell_type": "code",
      "execution_count": null,
      "metadata": {
        "id": "nmTrg6di4X0K"
      },
      "outputs": [],
      "source": [
        "#Membuat object algoritma SVM\n",
        "clf_svm=SVC(kernel='linear', random_state=0)\n",
        "\n",
        "#Memodelkan data menggunakan algoritma SVM\n",
        "model_svm=clf_svm.fit(x_train,y_train)\n",
        "\n",
        "#Melakukan Predict pada data test\n",
        "pred_svm=model_svm.predict(x_test)"
      ]
    },
    {
      "cell_type": "markdown",
      "metadata": {
        "id": "5ddEGJPM5oBj"
      },
      "source": [
        "## Evaluasi Pemodelan SVM"
      ]
    },
    {
      "cell_type": "code",
      "execution_count": null,
      "metadata": {
        "id": "L3RZYD2q5rb0"
      },
      "outputs": [],
      "source": [
        "print(classification_report(y_test,pred_svm))"
      ]
    },
    {
      "cell_type": "code",
      "execution_count": null,
      "metadata": {
        "id": "AzumsK9Q5-Od"
      },
      "outputs": [],
      "source": [
        "# Visualize the confusion matrix of logistic Regression\n",
        "mat = confusion_matrix (y_test, pred_svm)\n",
        "sns.heatmap(mat.T, square = True, annot = True, fmt = 'd',cbar= False)\n",
        "plt.xlabel('true label')\n",
        "plt.ylabel('predicted label')"
      ]
    },
    {
      "cell_type": "markdown",
      "metadata": {
        "id": "NoIlAwSu68vM"
      },
      "source": [
        "## Implementasi Model\n",
        "\n",
        "\n",
        "Model terbaik menggunakan SVM dengan Akurasi 81% dan presisi 82%"
      ]
    },
    {
      "cell_type": "code",
      "execution_count": null,
      "metadata": {
        "id": "tTtfFKai7bfd"
      },
      "outputs": [],
      "source": [
        "#Load Data Nasabah Baru/Calon nasabah yang mengajukan kredit\n",
        "\n",
        "path1='//content/drive/MyDrive/DataSource/credit_risk_newCust.csv'\n",
        "\n",
        "load_data1=pd.read_csv(path1, sep=',')\n",
        "\n",
        "df_newnasabah=pd.DataFrame(load_data1)"
      ]
    },
    {
      "cell_type": "code",
      "execution_count": null,
      "metadata": {
        "id": "QnVgck1I-lDV"
      },
      "outputs": [],
      "source": [
        "df_newnasabah.head()"
      ]
    },
    {
      "cell_type": "code",
      "execution_count": null,
      "metadata": {
        "id": "_ZmF9DIn_Pzm"
      },
      "outputs": [],
      "source": [
        "df_newnasabah.info()"
      ]
    },
    {
      "cell_type": "code",
      "execution_count": null,
      "metadata": {
        "id": "mdFsaPEwpmQq"
      },
      "outputs": [],
      "source": [
        "#Input variabel untuk predict\n",
        "\n",
        "x2=df_newnasabah[['age','ed', 'employ', 'address', 'income', 'debtinc', 'creddebt', 'othdebt']]"
      ]
    },
    {
      "cell_type": "code",
      "execution_count": null,
      "metadata": {
        "id": "8eHyZZHfq2Ao"
      },
      "outputs": [],
      "source": [
        "#Predict menggunakan model SVM\n",
        "\n",
        "\n",
        "prediction_svm = model_svm.predict(x2)\n",
        "prediction_svm"
      ]
    },
    {
      "cell_type": "markdown",
      "metadata": {
        "id": "62WHPG34Bqw4"
      },
      "source": [
        "## Membuat Objek Baru Untuk Preparing Export Hasil Pemodelan Data Menggunakan Data Baru"
      ]
    },
    {
      "cell_type": "code",
      "execution_count": null,
      "metadata": {
        "id": "aReeBX--CCVA"
      },
      "outputs": [],
      "source": [
        "df_pred=pd.DataFrame({'prediction': prediction_svm})\n",
        "\n",
        "df_pred.head()"
      ]
    },
    {
      "cell_type": "code",
      "execution_count": null,
      "metadata": {
        "id": "i__wWOLgD9pQ"
      },
      "outputs": [],
      "source": [
        "df4=x2\n",
        "\n",
        "df4"
      ]
    },
    {
      "cell_type": "code",
      "execution_count": null,
      "metadata": {
        "id": "US-_71BtECPs"
      },
      "outputs": [],
      "source": [
        "df_hasil_predict=pd.concat([df4,df_pred],sort=True, axis=1)\n",
        "\n",
        "df_hasil_predict"
      ]
    },
    {
      "cell_type": "code",
      "execution_count": null,
      "metadata": {
        "id": "tSWkmLWZFRLX"
      },
      "outputs": [],
      "source": [
        "df_hasil_predict['prediction'].value_counts()"
      ]
    },
    {
      "cell_type": "markdown",
      "metadata": {
        "id": "057oCeZcGDr8"
      },
      "source": [
        "Dari hasil tersebut, maka bank akan memutuskan ada sebanyak 127 calon nasabah yang diterima permohonan kreditnya. dan ada 23 calon nasabah yang di tolak permohonan kreditnya"
      ]
    },
    {
      "cell_type": "code",
      "execution_count": null,
      "metadata": {
        "id": "utloAShkKDhV"
      },
      "outputs": [],
      "source": [
        "#Eksport To CSV\n",
        "#Eksport as download if in colab\n",
        "from google.colab import files\n",
        "\n",
        "#menyimpan file / eksport file in local computer to CSV file\n",
        "\n",
        "df_hasil_predict.to_csv('df_hasil_predict.csv',sep=',')\n",
        "files.download('df_hasil_predict.csv')"
      ]
    },
    {
      "cell_type": "markdown",
      "metadata": {
        "id": "8jBMTG52PWmS"
      },
      "source": [
        "## Implementasi Predictive analytic untuk optimalisasi nilai kredit OLD nasabah pada bank XX\n",
        "\n",
        "Case: Estimasi\n",
        "\n",
        "Kemungkinan Algoritma yang digunakan:\n",
        "1. Linear Regression\n",
        "2. ANN (Artificial Neural Network)"
      ]
    },
    {
      "cell_type": "markdown",
      "metadata": {
        "id": "_0PNw6iUPpqL"
      },
      "source": [
        "Bagaimana menangani pemohon ynag sudah ada, termasuk apakah akan meningkatkan credit mereka.."
      ]
    },
    {
      "cell_type": "code",
      "execution_count": null,
      "metadata": {
        "id": "0p4ZcktMP8YS"
      },
      "outputs": [],
      "source": [
        "df.info()"
      ]
    },
    {
      "cell_type": "code",
      "execution_count": null,
      "metadata": {
        "id": "PJ3y7BZTPVvl"
      },
      "outputs": [],
      "source": [
        "df.head()"
      ]
    },
    {
      "cell_type": "markdown",
      "metadata": {
        "id": "6BvGugrISpnu"
      },
      "source": [
        "## Naasabah menunjukkan bahwa presentase rasio hutang terhadap kredit yang baik dibawah 30%\n",
        "\n",
        "kondisi kedua jika mau menaikkan limit kredit maka merefer nasabah2 yang belum pernah gagal bayar"
      ]
    },
    {
      "cell_type": "code",
      "execution_count": null,
      "metadata": {
        "id": "sWG1I4dSTRaC"
      },
      "outputs": [],
      "source": [
        "df_1=df[(df['creddebt']<=0.3)&(df['default']<=0.3)]\n",
        "\n",
        "df_1.head()"
      ]
    },
    {
      "cell_type": "code",
      "execution_count": null,
      "metadata": {
        "id": "oJRPCClzUY5H"
      },
      "outputs": [],
      "source": [
        "df_1.info()"
      ]
    },
    {
      "cell_type": "markdown",
      "metadata": {
        "id": "3e8A2cJyVIS-"
      },
      "source": [
        "Dari hasil filterisasi data, maka didapatkan ada 115 OLD nasabah yang akan diberikan kenaikan limit kredit"
      ]
    },
    {
      "cell_type": "markdown",
      "metadata": {
        "id": "96sTRxyNVsqd"
      },
      "source": [
        "pada case estimasi ini biasanya terkait dengan analisis korelasi.\n",
        "\n",
        "kita bisa menggunakan analisis korelasi untuk melihat hubungan linieritas,sehingga bisa memutuskan variabel yang mana akan dijadikan signifikan vaktor(indikator pemodelan / input variabel)\n",
        "\n",
        "Tetapi jika tidak menunjukkan adanya linieritas dalam data,maka bisa dipergunakkan algoritma yang mendukung pengolahan data non linier."
      ]
    },
    {
      "cell_type": "code",
      "execution_count": null,
      "metadata": {
        "id": "V9nZ-OWnVZBz"
      },
      "outputs": [],
      "source": [
        "f, ax=plt.subplots(figsize=(20,30))\n",
        "plt.title('Person Correlation')\n",
        "sns.heatmap(df.astype(float).corr(), linewidth=0.25, vmax=1.0, square=True, cmap='YlGn', linecolor='black', annot=True)"
      ]
    },
    {
      "cell_type": "markdown",
      "metadata": {
        "id": "BQxbgL8RX369"
      },
      "source": [
        "## Hasi Analisa:\n",
        "\n",
        "1. Ditemukan multicolinieritas\n",
        "2. variabel independen memiliki hubungan yang kuat dengan variabel independen lainnya (antara variabel independen memiliki hubungan)\n",
        "3. Jika kondisi demikian bisa disolusikan dengan algoritma multivariat : ANN, XGBOOST,\n",
        "4. Hasil kolerasai menunjukkan tidak ada linieritas dalam data terkait variabel independen dan dependen."
      ]
    },
    {
      "cell_type": "markdown",
      "metadata": {
        "id": "MMh6WVEEavoC"
      },
      "source": [
        "## Pemodelan Data"
      ]
    },
    {
      "cell_type": "code",
      "execution_count": null,
      "metadata": {
        "id": "tY-U0iRRay08"
      },
      "outputs": [],
      "source": [
        "#Input variabel\n",
        "x1=df[['age','ed','employ','address','income','creddebt','othdebt', 'default']]\n",
        "\n",
        "#Target Variabel\n",
        "y1=df['debtinc']"
      ]
    },
    {
      "cell_type": "code",
      "execution_count": null,
      "metadata": {
        "id": "77FArDKbcsTu"
      },
      "outputs": [],
      "source": [
        "x1_train,x1_test,y1_train,y1_test=train_test_split(x1,y1, test_size=0.3, random_state=0)"
      ]
    },
    {
      "cell_type": "code",
      "execution_count": null,
      "metadata": {
        "id": "lCZ4sMbvdP9O"
      },
      "outputs": [],
      "source": [
        "from sklearn.linear_model import LinearRegression\n",
        "\n",
        "#Untuk Evaluasi Model\n",
        "from sklearn import metrics"
      ]
    },
    {
      "cell_type": "code",
      "execution_count": null,
      "metadata": {
        "id": "C1-PI8Xedl60"
      },
      "outputs": [],
      "source": [
        "#Membuat object algoritma Logistik Regression\n",
        "ln=LinearRegression()\n",
        "\n",
        "#Memodelkan data menggunakan algoritma Logistik Regression\n",
        "model_ln=ln.fit(x1_train,y1_train)\n",
        "\n",
        "#Melakukan Predict pada data test\n",
        "pred_ln=model_ln.predict(x1_test)"
      ]
    },
    {
      "cell_type": "code",
      "execution_count": null,
      "metadata": {
        "id": "jjjHpOykgKxy"
      },
      "outputs": [],
      "source": [
        "#Assesing  Goodness-off-fit in a regression model\n",
        "print('r2_score:', metrics.r2_score(y1_test, pred_ln).round(3))"
      ]
    },
    {
      "cell_type": "code",
      "execution_count": null,
      "metadata": {
        "id": "bc0cifIohdfe"
      },
      "outputs": [],
      "source": [
        "import numpy as np\n",
        "\n",
        "def mean_absolut_percentage_error(y_true,y_pred):\n",
        "  y_true,y_pred=np.array(y_true),np.array(y_pred)\n",
        "  return np.mean(np.abs((y_true-y_pred)/y_true))*100\n",
        "\n",
        "print('MAPE ;',mean_absolut_percentage_error(y1_test,pred_ln).round(3))"
      ]
    },
    {
      "cell_type": "markdown",
      "metadata": {
        "id": "SPCrAPw5kMrP"
      },
      "source": [
        "## Pemodelan Menggunakan XGBOOST Classifier"
      ]
    },
    {
      "cell_type": "code",
      "execution_count": null,
      "metadata": {
        "id": "y7ABykN6klK9"
      },
      "outputs": [],
      "source": [
        "from xgboost import XGBRegressor"
      ]
    },
    {
      "cell_type": "code",
      "execution_count": null,
      "metadata": {
        "id": "44UBDaRXk5W7"
      },
      "outputs": [],
      "source": [
        "xgr=XGBRegressor(n_estimators=100, max_depth=3, random_state=0, learning_rate=0.3)\n",
        "\n",
        "#Hidden_layer_size=(2,2), activations='relu', max_liter='100'\n",
        "\n",
        "#Memodelkan data menggunakan algoritma Logistik Regression\n",
        "model_xgr=xgr.fit(x1_train,y1_train)\n",
        "\n",
        "#Melakukan Predict pada data test\n",
        "pred_xgr=model_xgr.predict(x1_test)"
      ]
    },
    {
      "cell_type": "code",
      "execution_count": null,
      "metadata": {
        "id": "vvDXXOv1l_-q"
      },
      "outputs": [],
      "source": [
        "#Assesing  Goodness-off-fit in a regression model\n",
        "print('r2_score:', metrics.r2_score(y1_test, pred_xgr).round(3))"
      ]
    },
    {
      "cell_type": "code",
      "execution_count": null,
      "metadata": {
        "id": "BQR7SM5-mGyV"
      },
      "outputs": [],
      "source": [
        "#Membuat Script MAPE\n",
        "\n",
        "def mean_absolut_percentage_error(y_true,y_pred):\n",
        "  y_true,y_pred=np.array(y_true),np.array(y_pred)\n",
        "  return np.mean(np.abs((y_true-y_pred)/y_true))*100\n",
        "\n",
        "print('MAPE ;',mean_absolut_percentage_error(y1_test,pred_xgr).round(3))"
      ]
    },
    {
      "cell_type": "markdown",
      "metadata": {
        "id": "_M_u2KhrqiLc"
      },
      "source": [
        "## Implementasi model XGBOOST Regressor pada data nasabah lama (OLD Nasabah)\n",
        "\n",
        "Step1\n",
        "\n",
        "Create data OLD Nasabah yang akan dipredict\n",
        "\n",
        "Step2\n",
        "\n",
        "Memodelkan data / membuat data predict\n",
        "\n",
        "Step3\n",
        "\n",
        "Filtering pada hasil predict data OLD Nasabah yang creddebt dibawah 30% dan tidak pernah gagal bayar, dan itulah yang di realisasikan nilai kredit"
      ]
    },
    {
      "cell_type": "code",
      "execution_count": null,
      "metadata": {
        "id": "YidC8qWhrYuH"
      },
      "outputs": [],
      "source": [
        "#Data Old Nasabah\n",
        "df.info()"
      ]
    },
    {
      "cell_type": "code",
      "execution_count": null,
      "metadata": {
        "id": "DR6mOkyhrt-1"
      },
      "outputs": [],
      "source": [
        "x_2=df[['age','ed','employ','address','income','creddebt','othdebt', 'default']]"
      ]
    },
    {
      "cell_type": "code",
      "execution_count": null,
      "metadata": {
        "id": "zru6detDsQyF"
      },
      "outputs": [],
      "source": [
        "prediction_xgr=model_xgr.predict(x_2)\n",
        "\n",
        "prediction_xgr"
      ]
    },
    {
      "cell_type": "code",
      "execution_count": null,
      "metadata": {
        "id": "ITOOwOlTubVX"
      },
      "outputs": [],
      "source": [
        "df_prediction_xgr=pd.DataFrame({'prediction': prediction_xgr}).round(2)\n",
        "\n",
        "df_prediction_xgr"
      ]
    },
    {
      "cell_type": "code",
      "execution_count": null,
      "metadata": {
        "id": "DNA9OXOuuzvW"
      },
      "outputs": [],
      "source": [
        "#Satukan dataframe input dengan predict\n",
        "\n",
        "df_pred_debtinc=pd.concat([df,df_prediction_xgr], sort=True, axis=1)\n",
        "\n",
        "df_pred_debtinc"
      ]
    },
    {
      "cell_type": "markdown",
      "metadata": {
        "id": "J1d3iXKovwkB"
      },
      "source": [
        "## Menentukan nasabah yang di approve kenaikan limit kredit"
      ]
    },
    {
      "cell_type": "code",
      "execution_count": null,
      "metadata": {
        "id": "zsAPllnKwB6f"
      },
      "outputs": [],
      "source": [
        "df_approve_limit=df_pred_debtinc[(df_pred_debtinc['creddebt']<=0.3)&(df['default']<=0.3)]\n",
        "\n",
        "df_approve_limit"
      ]
    },
    {
      "cell_type": "code",
      "execution_count": null,
      "metadata": {
        "id": "zxaFSI-BxvSu"
      },
      "outputs": [],
      "source": [
        "#Eksport To CSV\n",
        "#Eksport as download if in colab\n",
        "from google.colab import files\n",
        "\n",
        "#menyimpan file / eksport file in local computer to CSV file\n",
        "\n",
        "df_approve_limit.to_excel('df_approve_limit.xlsx')\n",
        "files.download('df_approve_limit.xlsx')"
      ]
    }
  ],
  "metadata": {
    "colab": {
      "provenance": []
    },
    "gpuClass": "standard",
    "kernelspec": {
      "display_name": "Python 3",
      "name": "python3"
    },
    "language_info": {
      "name": "python"
    }
  },
  "nbformat": 4,
  "nbformat_minor": 0
}